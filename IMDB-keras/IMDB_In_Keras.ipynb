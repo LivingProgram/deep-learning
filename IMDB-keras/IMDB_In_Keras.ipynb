{
 "cells": [
  {
   "cell_type": "markdown",
   "metadata": {},
   "source": [
    "# Analyzing IMDB Data in Keras"
   ]
  },
  {
   "cell_type": "code",
   "execution_count": 1,
   "metadata": {},
   "outputs": [
    {
     "name": "stderr",
     "output_type": "stream",
     "text": [
      "Using TensorFlow backend.\n"
     ]
    }
   ],
   "source": [
    "# Imports\n",
    "import numpy as np\n",
    "import keras\n",
    "from keras.datasets import imdb\n",
    "from keras.models import Sequential\n",
    "from keras.layers import Dense, Dropout, Activation\n",
    "from keras.preprocessing.text import Tokenizer\n",
    "import matplotlib.pyplot as plt\n",
    "%matplotlib inline\n",
    "\n",
    "np.random.seed(42)"
   ]
  },
  {
   "cell_type": "markdown",
   "metadata": {},
   "source": [
    "## 1. Loading the data\n",
    "This dataset comes preloaded with Keras, so one simple command will get us training and testing data. There is a parameter for how many words we want to look at. We've set it at 1000, but feel free to experiment."
   ]
  },
  {
   "cell_type": "code",
   "execution_count": 2,
   "metadata": {},
   "outputs": [
    {
     "name": "stdout",
     "output_type": "stream",
     "text": [
      "(25000,)\n",
      "(25000,)\n"
     ]
    }
   ],
   "source": [
    "# Loading the data (it's preloaded in Keras)\n",
    "(x_train, y_train), (x_test, y_test) = imdb.load_data(num_words=1000)\n",
    "\n",
    "print(x_train.shape)\n",
    "print(x_test.shape)"
   ]
  },
  {
   "cell_type": "markdown",
   "metadata": {},
   "source": [
    "## 2. Examining the data\n",
    "Notice that the data has been already pre-processed, where all the words have numbers, and the reviews come in as a vector with the words that the review contains. For example, if the word 'the' is the first one in our dictionary, and a review contains the word 'the', then there is a 1 in the corresponding vector.\n",
    "\n",
    "The output comes as a vector of 1's and 0's, where 1 is a positive sentiment for the review, and 0 is negative."
   ]
  },
  {
   "cell_type": "code",
   "execution_count": 3,
   "metadata": {},
   "outputs": [
    {
     "name": "stdout",
     "output_type": "stream",
     "text": [
      "[1, 14, 22, 16, 43, 530, 973, 2, 2, 65, 458, 2, 66, 2, 4, 173, 36, 256, 5, 25, 100, 43, 838, 112, 50, 670, 2, 9, 35, 480, 284, 5, 150, 4, 172, 112, 167, 2, 336, 385, 39, 4, 172, 2, 2, 17, 546, 38, 13, 447, 4, 192, 50, 16, 6, 147, 2, 19, 14, 22, 4, 2, 2, 469, 4, 22, 71, 87, 12, 16, 43, 530, 38, 76, 15, 13, 2, 4, 22, 17, 515, 17, 12, 16, 626, 18, 2, 5, 62, 386, 12, 8, 316, 8, 106, 5, 4, 2, 2, 16, 480, 66, 2, 33, 4, 130, 12, 16, 38, 619, 5, 25, 124, 51, 36, 135, 48, 25, 2, 33, 6, 22, 12, 215, 28, 77, 52, 5, 14, 407, 16, 82, 2, 8, 4, 107, 117, 2, 15, 256, 4, 2, 7, 2, 5, 723, 36, 71, 43, 530, 476, 26, 400, 317, 46, 7, 4, 2, 2, 13, 104, 88, 4, 381, 15, 297, 98, 32, 2, 56, 26, 141, 6, 194, 2, 18, 4, 226, 22, 21, 134, 476, 26, 480, 5, 144, 30, 2, 18, 51, 36, 28, 224, 92, 25, 104, 4, 226, 65, 16, 38, 2, 88, 12, 16, 283, 5, 16, 2, 113, 103, 32, 15, 16, 2, 19, 178, 32]\n",
      "1\n"
     ]
    }
   ],
   "source": [
    "print(x_train[0])\n",
    "print(y_train[0])"
   ]
  },
  {
   "cell_type": "markdown",
   "metadata": {},
   "source": [
    "## 3. One-hot encoding the output\n",
    "Here, we'll turn the input vectors into (0,1)-vectors. For example, if the pre-processed vector contains the number 14, then in the processed vector, the 14th entry will be 1."
   ]
  },
  {
   "cell_type": "code",
   "execution_count": 4,
   "metadata": {},
   "outputs": [
    {
     "name": "stdout",
     "output_type": "stream",
     "text": [
      "[0. 1. 1. 0. 1. 1. 1. 1. 1. 1. 0. 0. 1. 1. 1. 1. 1. 1. 1. 1. 0. 1. 1. 0.\n",
      " 0. 1. 1. 0. 1. 0. 1. 0. 1. 1. 0. 1. 1. 0. 1. 1. 0. 0. 0. 1. 0. 0. 1. 0.\n",
      " 1. 0. 1. 1. 1. 0. 0. 0. 1. 0. 0. 0. 0. 0. 1. 0. 0. 1. 1. 0. 0. 0. 0. 1.\n",
      " 0. 0. 0. 0. 1. 1. 0. 0. 0. 0. 1. 0. 0. 0. 0. 1. 1. 0. 0. 0. 1. 0. 0. 0.\n",
      " 0. 0. 1. 0. 1. 0. 0. 1. 1. 0. 1. 1. 0. 0. 0. 0. 1. 1. 0. 0. 0. 1. 0. 0.\n",
      " 0. 0. 0. 0. 1. 0. 0. 0. 0. 0. 1. 0. 0. 0. 1. 1. 0. 0. 0. 0. 0. 1. 0. 0.\n",
      " 1. 0. 0. 1. 0. 0. 1. 0. 0. 0. 0. 0. 0. 0. 0. 0. 0. 0. 0. 0. 0. 0. 0. 1.\n",
      " 0. 0. 0. 0. 1. 1. 0. 0. 0. 0. 1. 0. 0. 0. 0. 0. 0. 0. 0. 0. 0. 0. 0. 0.\n",
      " 1. 0. 1. 0. 0. 0. 0. 0. 0. 0. 0. 0. 0. 0. 0. 0. 0. 0. 0. 0. 0. 0. 0. 1.\n",
      " 0. 0. 0. 0. 0. 0. 0. 0. 1. 0. 1. 0. 0. 0. 0. 0. 0. 0. 0. 0. 0. 0. 0. 0.\n",
      " 0. 0. 0. 0. 0. 0. 0. 0. 0. 0. 0. 0. 0. 0. 0. 0. 1. 0. 0. 0. 0. 0. 0. 0.\n",
      " 0. 0. 0. 0. 0. 0. 0. 0. 0. 0. 0. 0. 0. 0. 0. 0. 0. 0. 0. 1. 1. 0. 0. 0.\n",
      " 0. 0. 0. 0. 0. 0. 0. 0. 0. 1. 0. 0. 0. 0. 0. 0. 0. 0. 0. 0. 0. 0. 0. 0.\n",
      " 0. 0. 0. 0. 1. 1. 0. 0. 0. 0. 0. 0. 0. 0. 0. 0. 0. 0. 0. 0. 0. 0. 0. 0.\n",
      " 1. 0. 0. 0. 0. 0. 0. 0. 0. 0. 0. 0. 0. 0. 0. 0. 0. 0. 0. 0. 0. 0. 0. 0.\n",
      " 0. 0. 0. 0. 0. 0. 0. 0. 0. 0. 0. 0. 0. 0. 0. 0. 0. 0. 0. 0. 0. 1. 0. 0.\n",
      " 0. 1. 1. 0. 0. 0. 0. 0. 0. 0. 0. 0. 0. 0. 0. 0. 1. 0. 0. 0. 0. 0. 0. 1.\n",
      " 0. 0. 0. 0. 0. 0. 0. 0. 0. 0. 0. 0. 0. 0. 0. 0. 0. 0. 0. 0. 0. 0. 0. 0.\n",
      " 0. 0. 0. 0. 0. 0. 0. 0. 0. 0. 0. 0. 0. 0. 0. 1. 0. 0. 0. 0. 0. 0. 0. 0.\n",
      " 0. 0. 1. 0. 0. 0. 0. 0. 0. 0. 0. 0. 0. 1. 0. 0. 0. 0. 0. 0. 1. 0. 0. 0.\n",
      " 1. 0. 0. 0. 0. 0. 0. 0. 0. 0. 0. 0. 0. 0. 0. 0. 0. 0. 0. 0. 0. 0. 0. 0.\n",
      " 0. 0. 0. 0. 0. 0. 0. 0. 0. 0. 0. 1. 0. 0. 0. 0. 0. 0. 0. 0. 0. 0. 0. 0.\n",
      " 0. 0. 1. 0. 0. 0. 0. 0. 0. 0. 0. 0. 0. 0. 0. 0. 0. 0. 1. 0. 0. 0. 0. 0.\n",
      " 0. 0. 0. 0. 0. 0. 0. 0. 0. 0. 0. 0. 0. 0. 0. 0. 0. 0. 0. 0. 0. 0. 0. 0.\n",
      " 0. 0. 0. 0. 0. 0. 0. 0. 0. 0. 0. 0. 0. 0. 0. 0. 0. 0. 0. 0. 0. 0. 0. 0.\n",
      " 0. 0. 0. 0. 0. 0. 0. 0. 0. 0. 0. 0. 0. 0. 0. 0. 0. 0. 0. 1. 0. 0. 0. 0.\n",
      " 0. 0. 1. 0. 0. 0. 0. 0. 0. 0. 0. 0. 0. 0. 0. 0. 0. 0. 0. 0. 0. 0. 0. 0.\n",
      " 0. 0. 0. 0. 0. 0. 0. 0. 0. 0. 0. 0. 0. 0. 0. 0. 0. 0. 0. 0. 0. 0. 1. 0.\n",
      " 0. 0. 0. 0. 0. 0. 0. 0. 0. 0. 0. 0. 0. 0. 0. 0. 0. 0. 0. 0. 0. 0. 0. 0.\n",
      " 0. 0. 0. 0. 0. 0. 0. 0. 0. 0. 0. 0. 0. 0. 0. 0. 0. 0. 0. 0. 0. 0. 0. 0.\n",
      " 0. 0. 0. 1. 0. 0. 0. 0. 0. 0. 0. 0. 0. 0. 0. 0. 0. 0. 0. 0. 0. 0. 0. 0.\n",
      " 0. 0. 0. 0. 0. 0. 0. 0. 0. 0. 0. 0. 0. 0. 0. 0. 0. 0. 0. 0. 0. 0. 0. 0.\n",
      " 0. 0. 0. 0. 0. 0. 0. 0. 0. 0. 0. 0. 0. 0. 0. 0. 0. 0. 0. 0. 0. 0. 0. 0.\n",
      " 0. 0. 0. 0. 0. 0. 0. 0. 0. 0. 0. 0. 0. 0. 0. 0. 0. 0. 0. 0. 0. 0. 0. 0.\n",
      " 0. 0. 0. 0. 0. 0. 0. 0. 0. 0. 0. 0. 0. 0. 0. 0. 0. 0. 0. 0. 0. 0. 1. 0.\n",
      " 0. 0. 0. 0. 0. 0. 0. 0. 0. 0. 0. 0. 0. 0. 0. 0. 0. 0. 0. 0. 0. 0. 0. 0.\n",
      " 0. 0. 0. 0. 0. 0. 0. 0. 0. 0. 0. 0. 0. 0. 0. 0. 0. 0. 0. 0. 0. 0. 0. 0.\n",
      " 0. 0. 0. 0. 0. 0. 0. 0. 0. 0. 0. 0. 0. 0. 0. 0. 0. 0. 0. 0. 0. 0. 0. 0.\n",
      " 0. 0. 0. 0. 0. 0. 0. 0. 0. 0. 0. 0. 0. 0. 0. 0. 0. 0. 0. 0. 0. 0. 0. 0.\n",
      " 0. 0. 0. 0. 0. 0. 0. 0. 0. 0. 0. 0. 0. 0. 0. 0. 0. 0. 0. 0. 0. 0. 0. 0.\n",
      " 0. 0. 0. 0. 0. 0. 0. 0. 0. 0. 0. 0. 0. 1. 0. 0. 0. 0. 0. 0. 0. 0. 0. 0.\n",
      " 0. 0. 0. 0. 0. 0. 0. 0. 0. 0. 0. 0. 0. 0. 0. 0.]\n"
     ]
    }
   ],
   "source": [
    "# One-hot encoding the output into vector mode, each of length 1000\n",
    "tokenizer = Tokenizer(num_words=1000)\n",
    "x_train = tokenizer.sequences_to_matrix(x_train, mode='binary')\n",
    "x_test = tokenizer.sequences_to_matrix(x_test, mode='binary')\n",
    "print(x_train[0])"
   ]
  },
  {
   "cell_type": "markdown",
   "metadata": {},
   "source": [
    "And we'll also one-hot encode the output."
   ]
  },
  {
   "cell_type": "code",
   "execution_count": 5,
   "metadata": {},
   "outputs": [
    {
     "name": "stdout",
     "output_type": "stream",
     "text": [
      "(25000, 2)\n",
      "(25000, 2)\n"
     ]
    }
   ],
   "source": [
    "# One-hot encoding the output\n",
    "num_classes = 2\n",
    "y_train = keras.utils.to_categorical(y_train, num_classes)\n",
    "y_test = keras.utils.to_categorical(y_test, num_classes)\n",
    "print(y_train.shape)\n",
    "print(y_test.shape)"
   ]
  },
  {
   "cell_type": "markdown",
   "metadata": {},
   "source": [
    "## 4. Building the  model architecture\n",
    "Build a model here using sequential. Feel free to experiment with different layers and sizes! Also, experiment adding dropout to reduce overfitting."
   ]
  },
  {
   "cell_type": "code",
   "execution_count": 6,
   "metadata": {},
   "outputs": [
    {
     "name": "stdout",
     "output_type": "stream",
     "text": [
      "1000\n"
     ]
    }
   ],
   "source": [
    "print(x_train.shape[1])"
   ]
  },
  {
   "cell_type": "code",
   "execution_count": 24,
   "metadata": {},
   "outputs": [],
   "source": [
    "# dropout, regularization, optimizers, 85% accuracy\n",
    "# TODO: Build the model architecture\n",
    "from keras import regularizers\n",
    "from keras.optimizers import Adam\n",
    "\n",
    "model = Sequential()\n",
    "model.add(Dense(128, input_dim = x_train.shape[1], kernel_regularizer=regularizers.l2(0.01)))\n",
    "model.add(Activation('relu'))\n",
    "model.add(Dropout(0.5))\n",
    "model.add(Dense(64, kernel_regularizer=regularizers.l2(0.01)))\n",
    "model.add(Activation('relu'))\n",
    "model.add(Dropout(0.5))\n",
    "model.add(Dense(2, kernel_regularizer=regularizers.l2(0.01)))\n",
    "model.add(Activation('sigmoid'))\n",
    "# TODO: Compile the model using a loss function and an optimizer.\n",
    "adam = Adam(lr=0.0001)\n",
    "model.compile(loss = 'categorical_crossentropy', optimizer=adam, metrics=['accuracy'])"
   ]
  },
  {
   "cell_type": "markdown",
   "metadata": {},
   "source": [
    "## 5. Training the model\n",
    "Run the model here. Experiment with different batch_size, and number of epochs!"
   ]
  },
  {
   "cell_type": "code",
   "execution_count": 25,
   "metadata": {},
   "outputs": [
    {
     "name": "stdout",
     "output_type": "stream",
     "text": [
      "Train on 25000 samples, validate on 25000 samples\n",
      "Epoch 1/100\n",
      "25000/25000 [==============================] - 1s 50us/step - loss: 3.7410 - acc: 0.5109 - val_loss: 3.6039 - val_acc: 0.5522\n",
      "Epoch 2/100\n",
      "25000/25000 [==============================] - 1s 32us/step - loss: 3.5004 - acc: 0.5310 - val_loss: 3.3769 - val_acc: 0.5852\n",
      "Epoch 3/100\n",
      "25000/25000 [==============================] - 1s 32us/step - loss: 3.2788 - acc: 0.5496 - val_loss: 3.1656 - val_acc: 0.6209\n",
      "Epoch 4/100\n",
      "25000/25000 [==============================] - 1s 33us/step - loss: 3.0758 - acc: 0.5585 - val_loss: 2.9693 - val_acc: 0.6511\n",
      "Epoch 5/100\n",
      "25000/25000 [==============================] - 1s 32us/step - loss: 2.8869 - acc: 0.5804 - val_loss: 2.7860 - val_acc: 0.6874\n",
      "Epoch 6/100\n",
      "25000/25000 [==============================] - 1s 32us/step - loss: 2.7120 - acc: 0.5979 - val_loss: 2.6152 - val_acc: 0.7181\n",
      "Epoch 7/100\n",
      "25000/25000 [==============================] - 1s 32us/step - loss: 2.5477 - acc: 0.6224 - val_loss: 2.4551 - val_acc: 0.7428\n",
      "Epoch 8/100\n",
      "25000/25000 [==============================] - 1s 33us/step - loss: 2.3963 - acc: 0.6429 - val_loss: 2.3042 - val_acc: 0.7621\n",
      "Epoch 9/100\n",
      "25000/25000 [==============================] - 1s 32us/step - loss: 2.2535 - acc: 0.6658 - val_loss: 2.1621 - val_acc: 0.7734\n",
      "Epoch 10/100\n",
      "25000/25000 [==============================] - 1s 32us/step - loss: 2.1192 - acc: 0.6838 - val_loss: 2.0254 - val_acc: 0.7872\n",
      "Epoch 11/100\n",
      "25000/25000 [==============================] - 1s 33us/step - loss: 1.9941 - acc: 0.7046 - val_loss: 1.8992 - val_acc: 0.7963\n",
      "Epoch 12/100\n",
      "25000/25000 [==============================] - 1s 32us/step - loss: 1.8764 - acc: 0.7203 - val_loss: 1.7815 - val_acc: 0.8046\n",
      "Epoch 13/100\n",
      "25000/25000 [==============================] - 1s 33us/step - loss: 1.7704 - acc: 0.7384 - val_loss: 1.6722 - val_acc: 0.8118\n",
      "Epoch 14/100\n",
      "25000/25000 [==============================] - 1s 33us/step - loss: 1.6654 - acc: 0.7560 - val_loss: 1.5727 - val_acc: 0.8191\n",
      "Epoch 15/100\n",
      "25000/25000 [==============================] - 1s 32us/step - loss: 1.5721 - acc: 0.7704 - val_loss: 1.4822 - val_acc: 0.8239\n",
      "Epoch 16/100\n",
      "25000/25000 [==============================] - 1s 33us/step - loss: 1.4892 - acc: 0.7774 - val_loss: 1.4022 - val_acc: 0.8278\n",
      "Epoch 17/100\n",
      "25000/25000 [==============================] - 1s 33us/step - loss: 1.4100 - acc: 0.7876 - val_loss: 1.3275 - val_acc: 0.8315\n",
      "Epoch 18/100\n",
      "25000/25000 [==============================] - 1s 32us/step - loss: 1.3405 - acc: 0.7974 - val_loss: 1.2626 - val_acc: 0.8343\n",
      "Epoch 19/100\n",
      "25000/25000 [==============================] - 1s 34us/step - loss: 1.2747 - acc: 0.8054 - val_loss: 1.2021 - val_acc: 0.8376\n",
      "Epoch 20/100\n",
      "25000/25000 [==============================] - 1s 33us/step - loss: 1.2174 - acc: 0.8121 - val_loss: 1.1455 - val_acc: 0.8406\n",
      "Epoch 21/100\n",
      "25000/25000 [==============================] - 1s 33us/step - loss: 1.1620 - acc: 0.8182 - val_loss: 1.0962 - val_acc: 0.8424\n",
      "Epoch 22/100\n",
      "25000/25000 [==============================] - 1s 33us/step - loss: 1.1139 - acc: 0.8187 - val_loss: 1.0514 - val_acc: 0.8445\n",
      "Epoch 23/100\n",
      "25000/25000 [==============================] - 1s 33us/step - loss: 1.0695 - acc: 0.8232 - val_loss: 1.0097 - val_acc: 0.8468\n",
      "Epoch 24/100\n",
      "25000/25000 [==============================] - 1s 34us/step - loss: 1.0266 - acc: 0.8270 - val_loss: 0.9718 - val_acc: 0.8476\n",
      "Epoch 25/100\n",
      "25000/25000 [==============================] - 1s 33us/step - loss: 0.9893 - acc: 0.8316 - val_loss: 0.9374 - val_acc: 0.8486\n",
      "Epoch 26/100\n",
      "25000/25000 [==============================] - 1s 33us/step - loss: 0.9570 - acc: 0.8322 - val_loss: 0.9053 - val_acc: 0.8494\n",
      "Epoch 27/100\n",
      "25000/25000 [==============================] - 1s 33us/step - loss: 0.9263 - acc: 0.8346 - val_loss: 0.8765 - val_acc: 0.8508\n",
      "Epoch 28/100\n",
      "25000/25000 [==============================] - 1s 33us/step - loss: 0.8947 - acc: 0.8381 - val_loss: 0.8493 - val_acc: 0.8512\n",
      "Epoch 29/100\n",
      "25000/25000 [==============================] - 1s 34us/step - loss: 0.8668 - acc: 0.8402 - val_loss: 0.8237 - val_acc: 0.8518\n",
      "Epoch 30/100\n",
      "25000/25000 [==============================] - 1s 33us/step - loss: 0.8444 - acc: 0.8382 - val_loss: 0.8013 - val_acc: 0.8528\n",
      "Epoch 31/100\n",
      "25000/25000 [==============================] - 1s 33us/step - loss: 0.8174 - acc: 0.8454 - val_loss: 0.7785 - val_acc: 0.8528\n",
      "Epoch 32/100\n",
      "25000/25000 [==============================] - 1s 33us/step - loss: 0.7953 - acc: 0.8444 - val_loss: 0.7599 - val_acc: 0.8538\n",
      "Epoch 33/100\n",
      "25000/25000 [==============================] - 1s 33us/step - loss: 0.7756 - acc: 0.8448 - val_loss: 0.7414 - val_acc: 0.8543\n",
      "Epoch 34/100\n",
      "25000/25000 [==============================] - 1s 32us/step - loss: 0.7577 - acc: 0.8456 - val_loss: 0.7238 - val_acc: 0.8549\n",
      "Epoch 35/100\n",
      "25000/25000 [==============================] - 1s 33us/step - loss: 0.7400 - acc: 0.8480 - val_loss: 0.7078 - val_acc: 0.8552\n",
      "Epoch 36/100\n",
      "25000/25000 [==============================] - 1s 33us/step - loss: 0.7238 - acc: 0.8478 - val_loss: 0.6930 - val_acc: 0.8557\n",
      "Epoch 37/100\n",
      "25000/25000 [==============================] - 1s 33us/step - loss: 0.7052 - acc: 0.8520 - val_loss: 0.6784 - val_acc: 0.8564\n",
      "Epoch 38/100\n",
      "25000/25000 [==============================] - 1s 33us/step - loss: 0.6929 - acc: 0.8516 - val_loss: 0.6657 - val_acc: 0.8563\n",
      "Epoch 39/100\n",
      "25000/25000 [==============================] - 1s 33us/step - loss: 0.6797 - acc: 0.8526 - val_loss: 0.6540 - val_acc: 0.8569\n",
      "Epoch 40/100\n",
      "25000/25000 [==============================] - 1s 33us/step - loss: 0.6680 - acc: 0.8538 - val_loss: 0.6430 - val_acc: 0.8577\n",
      "Epoch 41/100\n",
      "25000/25000 [==============================] - 1s 32us/step - loss: 0.6564 - acc: 0.8530 - val_loss: 0.6326 - val_acc: 0.8578\n",
      "Epoch 42/100\n",
      "25000/25000 [==============================] - 1s 32us/step - loss: 0.6458 - acc: 0.8525 - val_loss: 0.6234 - val_acc: 0.8574\n",
      "Epoch 43/100\n",
      "25000/25000 [==============================] - 1s 32us/step - loss: 0.6366 - acc: 0.8530 - val_loss: 0.6131 - val_acc: 0.8583\n",
      "Epoch 44/100\n",
      "25000/25000 [==============================] - 1s 33us/step - loss: 0.6250 - acc: 0.8550 - val_loss: 0.6042 - val_acc: 0.8585\n",
      "Epoch 45/100\n",
      "25000/25000 [==============================] - 1s 32us/step - loss: 0.6140 - acc: 0.8564 - val_loss: 0.5963 - val_acc: 0.8579\n",
      "Epoch 46/100\n",
      "25000/25000 [==============================] - 1s 33us/step - loss: 0.6085 - acc: 0.8544 - val_loss: 0.5885 - val_acc: 0.8582\n",
      "Epoch 47/100\n",
      "25000/25000 [==============================] - 1s 32us/step - loss: 0.5982 - acc: 0.8563 - val_loss: 0.5802 - val_acc: 0.8589\n",
      "Epoch 48/100\n",
      "25000/25000 [==============================] - 1s 32us/step - loss: 0.5911 - acc: 0.8575 - val_loss: 0.5734 - val_acc: 0.8588\n",
      "Epoch 49/100\n",
      "25000/25000 [==============================] - 1s 33us/step - loss: 0.5866 - acc: 0.8540 - val_loss: 0.5675 - val_acc: 0.8592\n",
      "Epoch 50/100\n",
      "25000/25000 [==============================] - 1s 32us/step - loss: 0.5778 - acc: 0.8573 - val_loss: 0.5614 - val_acc: 0.8592\n",
      "Epoch 51/100\n",
      "25000/25000 [==============================] - 1s 33us/step - loss: 0.5681 - acc: 0.8600 - val_loss: 0.5546 - val_acc: 0.8596\n",
      "Epoch 52/100\n",
      "25000/25000 [==============================] - 1s 33us/step - loss: 0.5659 - acc: 0.8598 - val_loss: 0.5498 - val_acc: 0.8598\n",
      "Epoch 53/100\n",
      "25000/25000 [==============================] - 1s 33us/step - loss: 0.5577 - acc: 0.8598 - val_loss: 0.5441 - val_acc: 0.8604\n",
      "Epoch 54/100\n",
      "25000/25000 [==============================] - 1s 34us/step - loss: 0.5523 - acc: 0.8578 - val_loss: 0.5390 - val_acc: 0.8606\n",
      "Epoch 55/100\n",
      "25000/25000 [==============================] - 1s 33us/step - loss: 0.5488 - acc: 0.8597 - val_loss: 0.5347 - val_acc: 0.8606\n",
      "Epoch 56/100\n",
      "25000/25000 [==============================] - 1s 34us/step - loss: 0.5426 - acc: 0.8602 - val_loss: 0.5301 - val_acc: 0.8597\n",
      "Epoch 57/100\n",
      "25000/25000 [==============================] - 1s 33us/step - loss: 0.5383 - acc: 0.8602 - val_loss: 0.5260 - val_acc: 0.8602\n",
      "Epoch 58/100\n",
      "25000/25000 [==============================] - 1s 33us/step - loss: 0.5332 - acc: 0.8610 - val_loss: 0.5228 - val_acc: 0.8592\n",
      "Epoch 59/100\n"
     ]
    },
    {
     "name": "stdout",
     "output_type": "stream",
     "text": [
      "25000/25000 [==============================] - 1s 33us/step - loss: 0.5306 - acc: 0.8596 - val_loss: 0.5185 - val_acc: 0.8610\n",
      "Epoch 60/100\n",
      "25000/25000 [==============================] - 1s 33us/step - loss: 0.5250 - acc: 0.8609 - val_loss: 0.5146 - val_acc: 0.8606\n",
      "Epoch 61/100\n",
      "25000/25000 [==============================] - 1s 34us/step - loss: 0.5208 - acc: 0.8607 - val_loss: 0.5107 - val_acc: 0.8611\n",
      "Epoch 62/100\n",
      "25000/25000 [==============================] - 1s 33us/step - loss: 0.5179 - acc: 0.8596 - val_loss: 0.5086 - val_acc: 0.8600\n",
      "Epoch 63/100\n",
      "25000/25000 [==============================] - 1s 32us/step - loss: 0.5142 - acc: 0.8605 - val_loss: 0.5051 - val_acc: 0.8596\n",
      "Epoch 64/100\n",
      "25000/25000 [==============================] - 1s 33us/step - loss: 0.5112 - acc: 0.8630 - val_loss: 0.5020 - val_acc: 0.8608\n",
      "Epoch 65/100\n",
      "25000/25000 [==============================] - 1s 33us/step - loss: 0.5071 - acc: 0.8624 - val_loss: 0.4988 - val_acc: 0.8604\n",
      "Epoch 66/100\n",
      "25000/25000 [==============================] - 1s 32us/step - loss: 0.5040 - acc: 0.8626 - val_loss: 0.4979 - val_acc: 0.8599\n",
      "Epoch 67/100\n",
      "25000/25000 [==============================] - 1s 33us/step - loss: 0.5025 - acc: 0.8624 - val_loss: 0.4947 - val_acc: 0.8605\n",
      "Epoch 68/100\n",
      "25000/25000 [==============================] - 1s 34us/step - loss: 0.4968 - acc: 0.8622 - val_loss: 0.4913 - val_acc: 0.8603\n",
      "Epoch 69/100\n",
      "25000/25000 [==============================] - 1s 33us/step - loss: 0.4962 - acc: 0.8627 - val_loss: 0.4893 - val_acc: 0.8614\n",
      "Epoch 70/100\n",
      "25000/25000 [==============================] - 1s 33us/step - loss: 0.4943 - acc: 0.8638 - val_loss: 0.4877 - val_acc: 0.8601\n",
      "Epoch 71/100\n",
      "25000/25000 [==============================] - 1s 33us/step - loss: 0.4918 - acc: 0.8632 - val_loss: 0.4847 - val_acc: 0.8613\n",
      "Epoch 72/100\n",
      "25000/25000 [==============================] - 1s 32us/step - loss: 0.4900 - acc: 0.8635 - val_loss: 0.4837 - val_acc: 0.8608\n",
      "Epoch 73/100\n",
      "25000/25000 [==============================] - 1s 34us/step - loss: 0.4886 - acc: 0.8640 - val_loss: 0.4815 - val_acc: 0.8612\n",
      "Epoch 74/100\n",
      "25000/25000 [==============================] - 1s 33us/step - loss: 0.4859 - acc: 0.8617 - val_loss: 0.4797 - val_acc: 0.8615\n",
      "Epoch 75/100\n",
      "25000/25000 [==============================] - 1s 34us/step - loss: 0.4821 - acc: 0.8636 - val_loss: 0.4779 - val_acc: 0.8614\n",
      "Epoch 76/100\n",
      "25000/25000 [==============================] - 1s 32us/step - loss: 0.4800 - acc: 0.8645 - val_loss: 0.4763 - val_acc: 0.8612\n",
      "Epoch 77/100\n",
      "25000/25000 [==============================] - 1s 33us/step - loss: 0.4817 - acc: 0.8617 - val_loss: 0.4753 - val_acc: 0.8616\n",
      "Epoch 78/100\n",
      "25000/25000 [==============================] - 1s 33us/step - loss: 0.4776 - acc: 0.8630 - val_loss: 0.4736 - val_acc: 0.8614\n",
      "Epoch 79/100\n",
      "25000/25000 [==============================] - 1s 33us/step - loss: 0.4759 - acc: 0.8635 - val_loss: 0.4721 - val_acc: 0.8613\n",
      "Epoch 80/100\n",
      "25000/25000 [==============================] - 1s 33us/step - loss: 0.4744 - acc: 0.8650 - val_loss: 0.4706 - val_acc: 0.8615\n",
      "Epoch 81/100\n",
      "25000/25000 [==============================] - 1s 33us/step - loss: 0.4726 - acc: 0.8646 - val_loss: 0.4693 - val_acc: 0.8615\n",
      "Epoch 82/100\n",
      "25000/25000 [==============================] - 1s 33us/step - loss: 0.4718 - acc: 0.8639 - val_loss: 0.4688 - val_acc: 0.8608\n",
      "Epoch 83/100\n",
      "25000/25000 [==============================] - 1s 33us/step - loss: 0.4712 - acc: 0.8639 - val_loss: 0.4672 - val_acc: 0.8616\n",
      "Epoch 84/100\n",
      "25000/25000 [==============================] - 1s 32us/step - loss: 0.4704 - acc: 0.8636 - val_loss: 0.4671 - val_acc: 0.8610\n",
      "Epoch 85/100\n",
      "25000/25000 [==============================] - 1s 33us/step - loss: 0.4680 - acc: 0.8640 - val_loss: 0.4652 - val_acc: 0.8620\n",
      "Epoch 86/100\n",
      "25000/25000 [==============================] - 1s 33us/step - loss: 0.4689 - acc: 0.8632 - val_loss: 0.4649 - val_acc: 0.8616\n",
      "Epoch 87/100\n",
      "25000/25000 [==============================] - 1s 33us/step - loss: 0.4656 - acc: 0.8642 - val_loss: 0.4638 - val_acc: 0.8618\n",
      "Epoch 88/100\n",
      "25000/25000 [==============================] - 1s 34us/step - loss: 0.4653 - acc: 0.8657 - val_loss: 0.4632 - val_acc: 0.8618\n",
      "Epoch 89/100\n",
      "25000/25000 [==============================] - 1s 33us/step - loss: 0.4640 - acc: 0.8655 - val_loss: 0.4625 - val_acc: 0.8614\n",
      "Epoch 90/100\n",
      "25000/25000 [==============================] - 1s 34us/step - loss: 0.4630 - acc: 0.8671 - val_loss: 0.4612 - val_acc: 0.8620\n",
      "Epoch 91/100\n",
      "25000/25000 [==============================] - 1s 33us/step - loss: 0.4642 - acc: 0.8645 - val_loss: 0.4614 - val_acc: 0.8618\n",
      "Epoch 92/100\n",
      "25000/25000 [==============================] - 1s 33us/step - loss: 0.4612 - acc: 0.8662 - val_loss: 0.4596 - val_acc: 0.8617\n",
      "Epoch 93/100\n",
      "25000/25000 [==============================] - 1s 33us/step - loss: 0.4593 - acc: 0.8668 - val_loss: 0.4605 - val_acc: 0.8616\n",
      "Epoch 94/100\n",
      "25000/25000 [==============================] - 1s 33us/step - loss: 0.4595 - acc: 0.8633 - val_loss: 0.4594 - val_acc: 0.8609\n",
      "Epoch 95/100\n",
      "25000/25000 [==============================] - 1s 33us/step - loss: 0.4592 - acc: 0.8652 - val_loss: 0.4580 - val_acc: 0.8622\n",
      "Epoch 96/100\n",
      "25000/25000 [==============================] - 1s 33us/step - loss: 0.4585 - acc: 0.8665 - val_loss: 0.4577 - val_acc: 0.8620\n",
      "Epoch 97/100\n",
      "25000/25000 [==============================] - 1s 32us/step - loss: 0.4584 - acc: 0.8656 - val_loss: 0.4572 - val_acc: 0.8610\n",
      "Epoch 98/100\n",
      "25000/25000 [==============================] - 1s 33us/step - loss: 0.4556 - acc: 0.8684 - val_loss: 0.4579 - val_acc: 0.8616\n",
      "Epoch 99/100\n",
      "25000/25000 [==============================] - 1s 32us/step - loss: 0.4549 - acc: 0.8667 - val_loss: 0.4559 - val_acc: 0.8616\n",
      "Epoch 100/100\n",
      "25000/25000 [==============================] - 1s 33us/step - loss: 0.4562 - acc: 0.8651 - val_loss: 0.4558 - val_acc: 0.8623\n"
     ]
    },
    {
     "data": {
      "text/plain": [
       "<keras.callbacks.History at 0x1dec9c6e6d8>"
      ]
     },
     "execution_count": 25,
     "metadata": {},
     "output_type": "execute_result"
    }
   ],
   "source": [
    "# TODO: Run the model. Feel free to experiment with different batch sizes and number of epochs.\n",
    "model.fit(x_train, y_train, epochs=100, batch_size=1000, verbose=1, validation_data = [x_test, y_test])"
   ]
  },
  {
   "cell_type": "markdown",
   "metadata": {},
   "source": [
    "## 6. Evaluating the model\n",
    "This will give you the accuracy of the model, as evaluated on the testing set. Can you get something over 85%?"
   ]
  },
  {
   "cell_type": "code",
   "execution_count": 26,
   "metadata": {},
   "outputs": [
    {
     "name": "stdout",
     "output_type": "stream",
     "text": [
      "Accuracy:  0.86232\n"
     ]
    }
   ],
   "source": [
    "score = model.evaluate(x_test, y_test, verbose=0)\n",
    "print(\"Accuracy: \", score[1])"
   ]
  }
 ],
 "metadata": {
  "kernelspec": {
   "display_name": "Python 3",
   "language": "python",
   "name": "python3"
  },
  "language_info": {
   "codemirror_mode": {
    "name": "ipython",
    "version": 3
   },
   "file_extension": ".py",
   "mimetype": "text/x-python",
   "name": "python",
   "nbconvert_exporter": "python",
   "pygments_lexer": "ipython3",
   "version": "3.6.4"
  }
 },
 "nbformat": 4,
 "nbformat_minor": 2
}
